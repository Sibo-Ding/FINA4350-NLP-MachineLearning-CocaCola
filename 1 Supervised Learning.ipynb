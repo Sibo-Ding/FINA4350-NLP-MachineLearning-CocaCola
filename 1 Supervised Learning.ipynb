{
 "cells": [
  {
   "cell_type": "code",
   "execution_count": 1,
   "id": "a2057f25",
   "metadata": {},
   "outputs": [],
   "source": [
    "import pandas as pd\n",
    "from sklearn.model_selection import train_test_split\n",
    "\n",
    "# Regression models\n",
    "from sklearn.linear_model import LinearRegression\n",
    "from sklearn.ensemble import RandomForestRegressor\n",
    "from xgboost import XGBRegressor\n",
    "\n",
    "# Classification models\n",
    "from sklearn.naive_bayes import MultinomialNB\n",
    "from sklearn.linear_model import LogisticRegression\n",
    "from sklearn.ensemble import RandomForestClassifier\n",
    "from xgboost import XGBClassifier\n",
    "\n",
    "# Model evaluation\n",
    "from sklearn import metrics"
   ]
  },
  {
   "cell_type": "markdown",
   "id": "0b812d6a",
   "metadata": {},
   "source": [
    "## Load the Data"
   ]
  },
  {
   "cell_type": "code",
   "execution_count": 2,
   "id": "0ed7dc4f",
   "metadata": {},
   "outputs": [],
   "source": [
    "bow = pd.read_csv('bag_of_words.csv')\n",
    "sales = pd.read_csv('sales.csv')\n",
    "\n",
    "x = bow.iloc[:, 1:] # Exclude \"quarter_statement\""
   ]
  },
  {
   "cell_type": "markdown",
   "id": "65fd0894",
   "metadata": {},
   "source": [
    "The procedures are similar for all following models:\n",
    "1. Set the dependent variable\n",
    "2. Randomly split dataset with 80% (28 observations) in training set\n",
    "3. Fit a model with training data\n",
    "4. Use the fitted model to predict test data\n",
    "5. Evaluate the differences between predictions and actual test values"
   ]
  },
  {
   "cell_type": "markdown",
   "id": "fa2bb534",
   "metadata": {},
   "source": [
    "# Regression Models"
   ]
  },
  {
   "cell_type": "markdown",
   "id": "e712fe85",
   "metadata": {},
   "source": [
    "## Linear Regression"
   ]
  },
  {
   "cell_type": "code",
   "execution_count": 3,
   "id": "e99dd824",
   "metadata": {},
   "outputs": [
    {
     "data": {
      "text/plain": [
       "0.005586636342396019"
      ]
     },
     "execution_count": 3,
     "metadata": {},
     "output_type": "execute_result"
    }
   ],
   "source": [
    "y = sales['growth']\n",
    "x_train, x_test, y_train, y_test = train_test_split(x, y, test_size=0.2, random_state=24)\n",
    "\n",
    "lin = LinearRegression().fit(x_train, y_train)\n",
    "\n",
    "lin_pred = lin.predict(x_test)\n",
    "\n",
    "# Mean squared error\n",
    "metrics.mean_squared_error(y_test, lin_pred)"
   ]
  },
  {
   "cell_type": "markdown",
   "id": "c81dd7ea",
   "metadata": {},
   "source": [
    "## Random Forest Regressor"
   ]
  },
  {
   "cell_type": "code",
   "execution_count": 4,
   "id": "9a40a9ff",
   "metadata": {},
   "outputs": [
    {
     "data": {
      "text/plain": [
       "0.001619217516145528"
      ]
     },
     "execution_count": 4,
     "metadata": {},
     "output_type": "execute_result"
    }
   ],
   "source": [
    "y = sales['growth']\n",
    "x_train, x_test, y_train, y_test = train_test_split(x, y, test_size=0.2, random_state=24)\n",
    "\n",
    "rfr = RandomForestRegressor(\n",
    "    n_estimators=100, max_depth=8, min_samples_leaf=1, random_state=10)\\\n",
    "    .fit(x_train, y_train)\n",
    "\n",
    "rfr_pred = rfr.predict(x_test)\n",
    "\n",
    "metrics.mean_squared_error(y_test, rfr_pred)"
   ]
  },
  {
   "cell_type": "markdown",
   "id": "8aa0be34",
   "metadata": {},
   "source": [
    "## XGBoost Regressor"
   ]
  },
  {
   "cell_type": "code",
   "execution_count": 5,
   "id": "35633f92",
   "metadata": {},
   "outputs": [
    {
     "data": {
      "text/plain": [
       "0.004379813386805549"
      ]
     },
     "execution_count": 5,
     "metadata": {},
     "output_type": "execute_result"
    }
   ],
   "source": [
    "y = sales['growth']\n",
    "x_train, x_test, y_train, y_test = train_test_split(x, y, test_size=0.2, random_state=24)\n",
    "\n",
    "xgbr = XGBRegressor().fit(x_train, y_train)\n",
    "\n",
    "xgbr_pred = xgbr.predict(x_test)\n",
    "\n",
    "metrics.mean_squared_error(y_test, xgbr_pred)"
   ]
  },
  {
   "cell_type": "markdown",
   "id": "5f452176",
   "metadata": {},
   "source": [
    "# Classification Models"
   ]
  },
  {
   "cell_type": "markdown",
   "id": "4f3d7160",
   "metadata": {},
   "source": [
    "## Naive Bayes"
   ]
  },
  {
   "cell_type": "code",
   "execution_count": 6,
   "id": "912c08f9",
   "metadata": {},
   "outputs": [
    {
     "name": "stdout",
     "output_type": "stream",
     "text": [
      "0.5\n"
     ]
    },
    {
     "data": {
      "text/plain": [
       "array([[0, 4],\n",
       "       [0, 4]], dtype=int64)"
      ]
     },
     "execution_count": 6,
     "metadata": {},
     "output_type": "execute_result"
    }
   ],
   "source": [
    "# y is 1 if \"growth\" is greater than 0, 0 otherwise\n",
    "y = (sales['growth'] > 0).astype(int)\n",
    "x_train, x_test, y_train, y_test = train_test_split(x, y, test_size=0.2, random_state=24)\n",
    "\n",
    "nb = MultinomialNB().fit(x_train, y_train)\n",
    "\n",
    "nb_pred = nb.predict(x_test)\n",
    "\n",
    "# Predictive accuracy and confusion matrix\n",
    "print(metrics.accuracy_score(y_test, nb_pred))\n",
    "metrics.confusion_matrix(y_test, nb_pred, labels=[0, 1])"
   ]
  },
  {
   "cell_type": "code",
   "execution_count": 7,
   "id": "13ce48cd",
   "metadata": {},
   "outputs": [
    {
     "name": "stdout",
     "output_type": "stream",
     "text": [
      "0.75\n"
     ]
    },
    {
     "data": {
      "text/plain": [
       "array([[0, 2],\n",
       "       [0, 6]], dtype=int64)"
      ]
     },
     "execution_count": 7,
     "metadata": {},
     "output_type": "execute_result"
    }
   ],
   "source": [
    "# y is 1 if \"growth\" is greater than its median, 0 otherwise\n",
    "y = (sales['growth'] > sales['growth'].median()).astype(int)\n",
    "x_train, x_test, y_train, y_test = train_test_split(x, y, test_size=0.2, random_state=24)\n",
    "\n",
    "nb = MultinomialNB().fit(x_train, y_train)\n",
    "\n",
    "nb_pred = nb.predict(x_test)\n",
    "print(metrics.accuracy_score(y_test, nb_pred))\n",
    "metrics.confusion_matrix(y_test, nb_pred, labels=[0, 1])"
   ]
  },
  {
   "cell_type": "code",
   "execution_count": 8,
   "id": "721f37eb",
   "metadata": {},
   "outputs": [
    {
     "data": {
      "text/plain": [
       "0.5"
      ]
     },
     "execution_count": 8,
     "metadata": {},
     "output_type": "execute_result"
    }
   ],
   "source": [
    "# y has 3 classes, each class has 12 observations\n",
    "def class_3(growth):\n",
    "    if growth < -0.062:\n",
    "        return 0\n",
    "    elif growth < -0.007:\n",
    "        return 1\n",
    "    else:\n",
    "        return 2\n",
    "\n",
    "y = sales['growth'].map(class_3)\n",
    "x_train, x_test, y_train, y_test = train_test_split(x, y, test_size=0.2, random_state=24)\n",
    "\n",
    "nb = MultinomialNB().fit(x_train, y_train)\n",
    "\n",
    "nb_pred = nb.predict(x_test)\n",
    "metrics.accuracy_score(y_test, nb_pred)"
   ]
  },
  {
   "cell_type": "code",
   "execution_count": 9,
   "id": "c1b1c616",
   "metadata": {},
   "outputs": [
    {
     "data": {
      "text/plain": [
       "0.375"
      ]
     },
     "execution_count": 9,
     "metadata": {},
     "output_type": "execute_result"
    }
   ],
   "source": [
    "# y has 4 classes, each class has 9 observations\n",
    "def class_4(growth):\n",
    "    if growth < -0.075:\n",
    "        return 0\n",
    "    elif growth < -0.03:\n",
    "        return 1\n",
    "    elif growth < 0.1:\n",
    "        return 2\n",
    "    else:\n",
    "        return 3\n",
    "   \n",
    "y = sales['growth'].map(class_4)\n",
    "x_train, x_test, y_train, y_test = train_test_split(x, y, test_size=0.2, random_state=24)\n",
    "\n",
    "nb = MultinomialNB().fit(x_train, y_train)\n",
    "\n",
    "nb_pred = nb.predict(x_test)\n",
    "metrics.accuracy_score(y_test, nb_pred)"
   ]
  },
  {
   "cell_type": "markdown",
   "id": "63b67d05",
   "metadata": {},
   "source": [
    "## Logistic Regression (Softmax for Multi-class)"
   ]
  },
  {
   "cell_type": "code",
   "execution_count": 10,
   "id": "78ab1ab7",
   "metadata": {},
   "outputs": [
    {
     "name": "stdout",
     "output_type": "stream",
     "text": [
      "0.875\n"
     ]
    },
    {
     "data": {
      "text/plain": [
       "array([[3, 1],\n",
       "       [0, 4]], dtype=int64)"
      ]
     },
     "execution_count": 10,
     "metadata": {},
     "output_type": "execute_result"
    }
   ],
   "source": [
    "# y is 1 if \"growth\" is greater than 0, 0 otherwise\n",
    "y = (sales['growth'] > 0).astype(int)\n",
    "x_train, x_test, y_train, y_test = train_test_split(x, y, test_size=0.2, random_state=24)\n",
    "\n",
    "log = LogisticRegression().fit(x_train, y_train)\n",
    "\n",
    "log_pred = log.predict(x_test)\n",
    "print(metrics.accuracy_score(y_test, log_pred))\n",
    "metrics.confusion_matrix(y_test, log_pred, labels=[0, 1])"
   ]
  },
  {
   "cell_type": "code",
   "execution_count": 11,
   "id": "54e1bca4",
   "metadata": {},
   "outputs": [
    {
     "name": "stdout",
     "output_type": "stream",
     "text": [
      "0.75\n"
     ]
    },
    {
     "data": {
      "text/plain": [
       "array([[1, 1],\n",
       "       [1, 5]], dtype=int64)"
      ]
     },
     "execution_count": 11,
     "metadata": {},
     "output_type": "execute_result"
    }
   ],
   "source": [
    "# y is 1 if \"growth\" is greater than its median, 0 otherwise\n",
    "y = (sales['growth'] > sales['growth'].median()).astype(int)\n",
    "x_train, x_test, y_train, y_test = train_test_split(x, y, test_size=0.2, random_state=24)\n",
    "\n",
    "log = LogisticRegression().fit(x_train, y_train)\n",
    "\n",
    "log_pred = log.predict(x_test)\n",
    "print(metrics.accuracy_score(y_test, log_pred))\n",
    "metrics.confusion_matrix(y_test, log_pred, labels=[0, 1])"
   ]
  },
  {
   "cell_type": "code",
   "execution_count": 12,
   "id": "cb65813b",
   "metadata": {},
   "outputs": [
    {
     "name": "stderr",
     "output_type": "stream",
     "text": [
      "C:\\Users\\22447\\anaconda3\\lib\\site-packages\\sklearn\\linear_model\\_logistic.py:458: ConvergenceWarning: lbfgs failed to converge (status=1):\n",
      "STOP: TOTAL NO. of ITERATIONS REACHED LIMIT.\n",
      "\n",
      "Increase the number of iterations (max_iter) or scale the data as shown in:\n",
      "    https://scikit-learn.org/stable/modules/preprocessing.html\n",
      "Please also refer to the documentation for alternative solver options:\n",
      "    https://scikit-learn.org/stable/modules/linear_model.html#logistic-regression\n",
      "  n_iter_i = _check_optimize_result(\n"
     ]
    },
    {
     "data": {
      "text/plain": [
       "0.75"
      ]
     },
     "execution_count": 12,
     "metadata": {},
     "output_type": "execute_result"
    }
   ],
   "source": [
    "# y has 3 classes, each class has 12 observations\n",
    "def class_3(growth):\n",
    "    if growth < -0.062:\n",
    "        return 0\n",
    "    elif growth < -0.007:\n",
    "        return 1\n",
    "    else:\n",
    "        return 2\n",
    "\n",
    "y = sales['growth'].map(class_3)\n",
    "x_train, x_test, y_train, y_test = train_test_split(x, y, test_size=0.2, random_state=24)\n",
    "\n",
    "log = LogisticRegression().fit(x_train, y_train)\n",
    "\n",
    "log_pred = log.predict(x_test)\n",
    "metrics.accuracy_score(y_test, log_pred)"
   ]
  },
  {
   "cell_type": "code",
   "execution_count": 13,
   "id": "6f3c5cfc",
   "metadata": {},
   "outputs": [
    {
     "name": "stderr",
     "output_type": "stream",
     "text": [
      "C:\\Users\\22447\\anaconda3\\lib\\site-packages\\sklearn\\linear_model\\_logistic.py:458: ConvergenceWarning: lbfgs failed to converge (status=1):\n",
      "STOP: TOTAL NO. of ITERATIONS REACHED LIMIT.\n",
      "\n",
      "Increase the number of iterations (max_iter) or scale the data as shown in:\n",
      "    https://scikit-learn.org/stable/modules/preprocessing.html\n",
      "Please also refer to the documentation for alternative solver options:\n",
      "    https://scikit-learn.org/stable/modules/linear_model.html#logistic-regression\n",
      "  n_iter_i = _check_optimize_result(\n"
     ]
    },
    {
     "data": {
      "text/plain": [
       "0.625"
      ]
     },
     "execution_count": 13,
     "metadata": {},
     "output_type": "execute_result"
    }
   ],
   "source": [
    "# y has 4 classes, each class has 9 observations\n",
    "def class_4(growth):\n",
    "    if growth < -0.075:\n",
    "        return 0\n",
    "    elif growth < -0.03:\n",
    "        return 1\n",
    "    elif growth < 0.1:\n",
    "        return 2\n",
    "    else:\n",
    "        return 3\n",
    "   \n",
    "y = sales['growth'].map(class_4)\n",
    "x_train, x_test, y_train, y_test = train_test_split(x, y, test_size=0.2, random_state=24)\n",
    "\n",
    "log = LogisticRegression().fit(x_train, y_train)\n",
    "\n",
    "log_pred = log.predict(x_test)\n",
    "metrics.accuracy_score(y_test, log_pred)"
   ]
  },
  {
   "cell_type": "markdown",
   "id": "f35b9ff5",
   "metadata": {},
   "source": [
    "## Random Forest Classifier"
   ]
  },
  {
   "cell_type": "code",
   "execution_count": 14,
   "id": "23f4d001",
   "metadata": {},
   "outputs": [
    {
     "name": "stdout",
     "output_type": "stream",
     "text": [
      "0.875\n"
     ]
    },
    {
     "data": {
      "text/plain": [
       "array([[4, 0],\n",
       "       [1, 3]], dtype=int64)"
      ]
     },
     "execution_count": 14,
     "metadata": {},
     "output_type": "execute_result"
    }
   ],
   "source": [
    "# y is 1 if \"growth\" is greater than 0, 0 otherwise\n",
    "y = (sales['growth'] > 0).astype(int)\n",
    "x_train, x_test, y_train, y_test = train_test_split(x, y, test_size=0.2, random_state=24)\n",
    "\n",
    "rfc = RandomForestClassifier(\n",
    "    n_estimators=100, max_depth=2, min_samples_leaf=2, random_state=10)\\\n",
    "    .fit(x_train, y_train)\n",
    "\n",
    "rfc_pred = rfc.predict(x_test)\n",
    "print(metrics.accuracy_score(y_test, rfc_pred))\n",
    "metrics.confusion_matrix(y_test,rfc_pred, labels=[0, 1])"
   ]
  },
  {
   "cell_type": "code",
   "execution_count": 15,
   "id": "9c56ee0b",
   "metadata": {},
   "outputs": [
    {
     "name": "stdout",
     "output_type": "stream",
     "text": [
      "0.75\n"
     ]
    },
    {
     "data": {
      "text/plain": [
       "array([[1, 1],\n",
       "       [1, 5]], dtype=int64)"
      ]
     },
     "execution_count": 15,
     "metadata": {},
     "output_type": "execute_result"
    }
   ],
   "source": [
    "# y is 1 if \"growth\" is greater than its median, 0 otherwise\n",
    "y = (sales['growth'] > sales['growth'].median()).astype(int)\n",
    "x_train, x_test, y_train, y_test = train_test_split(x, y, test_size=0.2, random_state=24)\n",
    "\n",
    "rfc = RandomForestClassifier(\n",
    "    n_estimators=100, max_depth=2, min_samples_leaf=9, random_state=10)\\\n",
    "    .fit(x_train, y_train)\n",
    "\n",
    "rfc_pred = rfc.predict(x_test)\n",
    "print(metrics.accuracy_score(y_test, rfc_pred))\n",
    "metrics.confusion_matrix(y_test,rfc_pred, labels=[0, 1])"
   ]
  },
  {
   "cell_type": "code",
   "execution_count": 16,
   "id": "860463d0",
   "metadata": {},
   "outputs": [
    {
     "data": {
      "text/plain": [
       "0.625"
      ]
     },
     "execution_count": 16,
     "metadata": {},
     "output_type": "execute_result"
    }
   ],
   "source": [
    "# y has 3 classes, each class has 12 observations\n",
    "def class_3(growth):\n",
    "    if growth < -0.062:\n",
    "        return 0\n",
    "    elif growth < -0.007:\n",
    "        return 1\n",
    "    else:\n",
    "        return 2\n",
    "\n",
    "y = sales['growth'].map(class_3)\n",
    "x_train, x_test, y_train, y_test = train_test_split(x, y, test_size=0.2, random_state=24)\n",
    "\n",
    "rfc = RandomForestClassifier(\n",
    "    n_estimators=100, max_depth=2, min_samples_leaf=8, random_state=10)\\\n",
    "    .fit(x_train, y_train)\n",
    "\n",
    "rfc_pred = rfc.predict(x_test)\n",
    "metrics.accuracy_score(y_test, rfc_pred)"
   ]
  },
  {
   "cell_type": "code",
   "execution_count": 17,
   "id": "c4c76d77",
   "metadata": {},
   "outputs": [
    {
     "data": {
      "text/plain": [
       "0.5"
      ]
     },
     "execution_count": 17,
     "metadata": {},
     "output_type": "execute_result"
    }
   ],
   "source": [
    "# y has 4 classes, each class has 9 observations\n",
    "def class_4(growth):\n",
    "    if growth < -0.075:\n",
    "        return 0\n",
    "    elif growth < -0.03:\n",
    "        return 1\n",
    "    elif growth < 0.1:\n",
    "        return 2\n",
    "    else:\n",
    "        return 3\n",
    "   \n",
    "y = sales['growth'].map(class_4)\n",
    "x_train, x_test, y_train, y_test = train_test_split(x, y, test_size=0.2, random_state=24)\n",
    "\n",
    "rfc = RandomForestClassifier(\n",
    "    n_estimators=100, max_depth=2, min_samples_leaf=2, random_state=10)\\\n",
    "    .fit(x_train, y_train)\n",
    "\n",
    "rfc_pred = rfc.predict(x_test)\n",
    "metrics.accuracy_score(y_test, rfc_pred)"
   ]
  },
  {
   "cell_type": "markdown",
   "id": "b86ad716",
   "metadata": {},
   "source": [
    "## XGBoost Classifier"
   ]
  },
  {
   "cell_type": "code",
   "execution_count": 18,
   "id": "5cef97fb",
   "metadata": {},
   "outputs": [
    {
     "name": "stdout",
     "output_type": "stream",
     "text": [
      "0.875\n"
     ]
    },
    {
     "data": {
      "text/plain": [
       "array([[3, 1],\n",
       "       [0, 4]], dtype=int64)"
      ]
     },
     "execution_count": 18,
     "metadata": {},
     "output_type": "execute_result"
    }
   ],
   "source": [
    "# y is 1 if \"growth\" is greater than 0, 0 otherwise\n",
    "y = (sales['growth'] > 0).astype(int)\n",
    "x_train, x_test, y_train, y_test = train_test_split(x, y, test_size=0.2, random_state=24)\n",
    "\n",
    "xgbc = XGBClassifier().fit(x_train, y_train)\n",
    "\n",
    "xgbc_pred = xgbc.predict(x_test)\n",
    "\n",
    "print(metrics.accuracy_score(y_test, xgbc_pred))\n",
    "metrics.confusion_matrix(y_test, xgbc_pred, labels=[0, 1])"
   ]
  },
  {
   "cell_type": "code",
   "execution_count": 19,
   "id": "ed8da479",
   "metadata": {},
   "outputs": [
    {
     "name": "stdout",
     "output_type": "stream",
     "text": [
      "0.625\n"
     ]
    },
    {
     "data": {
      "text/plain": [
       "array([[0, 2],\n",
       "       [1, 5]], dtype=int64)"
      ]
     },
     "execution_count": 19,
     "metadata": {},
     "output_type": "execute_result"
    }
   ],
   "source": [
    "# y is 1 if \"growth\" is greater than its median, 0 otherwise\n",
    "y = (sales['growth'] > sales['growth'].median()).astype(int)\n",
    "x_train, x_test, y_train, y_test = train_test_split(x, y, test_size=0.2, random_state=24)\n",
    "\n",
    "xgbc = XGBClassifier().fit(x_train, y_train)\n",
    "\n",
    "xgbc_pred = xgbc.predict(x_test)\n",
    "\n",
    "print(metrics.accuracy_score(y_test, xgbc_pred))\n",
    "metrics.confusion_matrix(y_test, xgbc_pred, labels=[0, 1])"
   ]
  },
  {
   "cell_type": "code",
   "execution_count": 20,
   "id": "6a86fed4",
   "metadata": {},
   "outputs": [
    {
     "name": "stdout",
     "output_type": "stream",
     "text": [
      "0.75\n"
     ]
    }
   ],
   "source": [
    "# y has 3 classes, each class has 12 observations\n",
    "def class_3(growth):\n",
    "    if growth < -0.062:\n",
    "        return 0\n",
    "    elif growth < -0.007:\n",
    "        return 1\n",
    "    else:\n",
    "        return 2\n",
    "\n",
    "y = sales['growth'].map(class_3)\n",
    "x_train, x_test, y_train, y_test = train_test_split(x, y, test_size=0.2, random_state=24)\n",
    "\n",
    "xgbc = XGBClassifier().fit(x_train, y_train)\n",
    "\n",
    "xgbc_pred = xgbc.predict(x_test)\n",
    "\n",
    "print(metrics.accuracy_score(y_test, xgbc_pred))"
   ]
  },
  {
   "cell_type": "code",
   "execution_count": 21,
   "id": "a253bf62",
   "metadata": {},
   "outputs": [
    {
     "name": "stdout",
     "output_type": "stream",
     "text": [
      "0.5\n"
     ]
    }
   ],
   "source": [
    "# y has 4 classes, each class has 9 observations\n",
    "def class_4(growth):\n",
    "    if growth < -0.075:\n",
    "        return 0\n",
    "    elif growth < -0.03:\n",
    "        return 1\n",
    "    elif growth < 0.1:\n",
    "        return 2\n",
    "    else:\n",
    "        return 3\n",
    "   \n",
    "y = sales['growth'].map(class_4)\n",
    "x_train, x_test, y_train, y_test = train_test_split(x, y, test_size=0.2, random_state=24)\n",
    "\n",
    "xgbc = XGBClassifier().fit(x_train, y_train)\n",
    "\n",
    "xgbc_pred = xgbc.predict(x_test)\n",
    "\n",
    "print(metrics.accuracy_score(y_test, xgbc_pred))"
   ]
  }
 ],
 "metadata": {
  "kernelspec": {
   "display_name": "Python 3 (ipykernel)",
   "language": "python",
   "name": "python3"
  },
  "language_info": {
   "codemirror_mode": {
    "name": "ipython",
    "version": 3
   },
   "file_extension": ".py",
   "mimetype": "text/x-python",
   "name": "python",
   "nbconvert_exporter": "python",
   "pygments_lexer": "ipython3",
   "version": "3.9.12"
  }
 },
 "nbformat": 4,
 "nbformat_minor": 5
}
